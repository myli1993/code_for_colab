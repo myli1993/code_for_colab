{
  "nbformat": 4,
  "nbformat_minor": 0,
  "metadata": {
    "colab": {
      "name": "River-Connectivities-main01.ipynb",
      "provenance": [],
      "authorship_tag": "ABX9TyNAYzqLTkl8vzGiSibX3HDi",
      "include_colab_link": true
    },
    "kernelspec": {
      "name": "python3",
      "display_name": "Python 3"
    },
    "language_info": {
      "name": "python"
    }
  },
  "cells": [
    {
      "cell_type": "markdown",
      "metadata": {
        "id": "view-in-github",
        "colab_type": "text"
      },
      "source": [
        "<a href=\"https://colab.research.google.com/github/myli1993/code_for_colab/blob/main/River_Connectivities_main01.ipynb\" target=\"_parent\"><img src=\"https://colab.research.google.com/assets/colab-badge.svg\" alt=\"Open In Colab\"/></a>"
      ]
    },
    {
      "cell_type": "code",
      "source": [
        "'''\n",
        "*********************************************************\n",
        "              Introduction & License\n",
        "\n",
        "\n",
        "\n",
        "\n",
        "*********************************************************\n",
        "'''"
      ],
      "metadata": {
        "id": "YLGf5QPA8vEO"
      },
      "execution_count": null,
      "outputs": []
    },
    {
      "cell_type": "code",
      "execution_count": 21,
      "metadata": {
        "id": "MlARTSWcPFnY",
        "colab": {
          "base_uri": "https://localhost:8080/"
        },
        "outputId": "8d955dec-8634-4c00-8061-2a521756ff77"
      },
      "outputs": [
        {
          "output_type": "stream",
          "name": "stdout",
          "text": [
            "Looking in indexes: https://pypi.org/simple, https://us-python.pkg.dev/colab-wheels/public/simple/\n",
            "Requirement already satisfied: pyshp in /usr/local/lib/python3.7/dist-packages (2.3.1)\n",
            "Cloning into 'River-Connectivities'...\n",
            "remote: Enumerating objects: 29, done.\u001b[K\n",
            "remote: Counting objects: 100% (29/29), done.\u001b[K\n",
            "remote: Compressing objects: 100% (23/23), done.\u001b[K\n",
            "remote: Total 29 (delta 3), reused 0 (delta 0), pack-reused 0\u001b[K\n",
            "Unpacking objects: 100% (29/29), done.\n"
          ]
        }
      ],
      "source": [
        "!pip install pyshp\n",
        "!git clone https://github.com/myli1993/River-Connectivities.git\n",
        "import shapefile\n",
        "import osgeo.ogr as ogr\n",
        "import osgeo.osr as osr\n",
        "import pandas as pd\n",
        "import numpy as np\n",
        "import shapely\n",
        "from matplotlib import pyplot as plt\n",
        "from shapely.geometry import Polygon, MultiPoint"
      ]
    },
    {
      "cell_type": "code",
      "source": [
        "water_system_shp = shapefile.Reader(\"./River-Connectivities/example/shp4RC/water_system.shp\")\n",
        "Points_shp = shapefile.Reader(\"./River-Connectivities/example/shp4RC/Source_and_confluence.shp\")"
      ],
      "metadata": {
        "id": "haeailI86NP2"
      },
      "execution_count": 23,
      "outputs": []
    }
  ]
}