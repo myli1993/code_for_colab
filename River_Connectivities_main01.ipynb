{
  "nbformat": 4,
  "nbformat_minor": 0,
  "metadata": {
    "colab": {
      "name": "River-Connectivities-main01.ipynb",
      "provenance": [],
      "authorship_tag": "ABX9TyOp8QbtJynep3RbJNOV2D+H",
      "include_colab_link": true
    },
    "kernelspec": {
      "name": "python3",
      "display_name": "Python 3"
    },
    "language_info": {
      "name": "python"
    }
  },
  "cells": [
    {
      "cell_type": "markdown",
      "metadata": {
        "id": "view-in-github",
        "colab_type": "text"
      },
      "source": [
        "<a href=\"https://colab.research.google.com/github/myli1993/code_for_colab/blob/main/River_Connectivities_main01.ipynb\" target=\"_parent\"><img src=\"https://colab.research.google.com/assets/colab-badge.svg\" alt=\"Open In Colab\"/></a>"
      ]
    },
    {
      "cell_type": "code",
      "source": [
        "'''\n",
        "*********************************************************\n",
        "              Introduction & License\n",
        "\n",
        "\n",
        "\n",
        "\n",
        "*********************************************************\n",
        "'''"
      ],
      "metadata": {
        "id": "YLGf5QPA8vEO"
      },
      "execution_count": null,
      "outputs": []
    },
    {
      "cell_type": "code",
      "execution_count": 7,
      "metadata": {
        "id": "MlARTSWcPFnY",
        "outputId": "534c5761-24fe-4ca7-b545-1fd39ff9fa5c",
        "colab": {
          "base_uri": "https://localhost:8080/"
        }
      },
      "outputs": [
        {
          "output_type": "stream",
          "name": "stdout",
          "text": [
            "Looking in indexes: https://pypi.org/simple, https://us-python.pkg.dev/colab-wheels/public/simple/\n",
            "Collecting pyshp\n",
            "  Downloading pyshp-2.3.1-py2.py3-none-any.whl (46 kB)\n",
            "\u001b[?25l\r\u001b[K     |███████                         | 10 kB 23.9 MB/s eta 0:00:01\r\u001b[K     |██████████████                  | 20 kB 14.7 MB/s eta 0:00:01\r\u001b[K     |█████████████████████▏          | 30 kB 10.4 MB/s eta 0:00:01\r\u001b[K     |████████████████████████████▏   | 40 kB 4.5 MB/s eta 0:00:01\r\u001b[K     |████████████████████████████████| 46 kB 2.4 MB/s \n",
            "\u001b[?25hInstalling collected packages: pyshp\n",
            "Successfully installed pyshp-2.3.1\n"
          ]
        }
      ],
      "source": [
        "!pip install pyshp\n",
        "import shapely\n",
        "import osgeo.ogr as ogr\n",
        "import osgeo.osr as osr\n",
        "import pandas as pd\n",
        "import numpy as np\n",
        "import shapely\n",
        "from matplotlib import pyplot as plt\n",
        "from shapely.geometry import Polygon, MultiPoint"
      ]
    },
    {
      "cell_type": "code",
      "source": [
        "'''\n",
        "Input dataset\n",
        "'''\n"
      ],
      "metadata": {
        "id": "haeailI86NP2"
      },
      "execution_count": null,
      "outputs": []
    }
  ]
}